{
 "cells": [
  {
   "cell_type": "code",
   "execution_count": null,
   "metadata": {},
   "outputs": [],
   "source": [
    "%matplotlib notebook\n",
    "\n",
    "import h5py\n",
    "import matplotlib.pyplot as plt\n",
    "from numpy import *\n",
    "import pandas as pd\n",
    "import os\n",
    "import sys\n",
    "import scipy.optimize as opt\n",
    "from typing import Dict, Any\n",
    "import recordclass.recordclass as rc\n",
    "from itertools import product"
   ]
  },
  {
   "cell_type": "code",
   "execution_count": null,
   "metadata": {},
   "outputs": [],
   "source": [
    "from LoadingH5 import get_indep_vars, make_iterations_df\n",
    "h5file = h5py.File('results2D.hdf5',mode='r+')\n",
    "\n",
    "#Find number of measurements per experiment\n",
    "measurements = h5file['settings/experiment/measurementsPerIteration'][()]+1\n",
    "num_its = len(h5file['iterations'])\n",
    "\n",
    "#Find independent variable names and values\n",
    "indep_vars = get_indep_vars(h5file)\n",
    "iVars = list(indep_vars.keys())\n",
    "\n",
    "# map iterations to independent variable values\n",
    "iterations = make_iterations_df(h5file, iVars)"
   ]
  },
  {
   "cell_type": "markdown",
   "metadata": {},
   "source": [
    "## Create n-darray of iteration numbers\n",
    "* useful when there are multiple independent variables\n",
    "* Indexing is [ivar1,ivar2,ivar3,...,ivarn]\n",
    "* ivar ordering is alphabetical\n",
    "* identical to ordering of keys in indep_vars"
   ]
  },
  {
   "cell_type": "code",
   "execution_count": null,
   "metadata": {},
   "outputs": [],
   "source": [
    "from LoadingH5 import fold_to_nd\n",
    "it_nd = fold_to_nd(iterations)\n",
    "print(it_nd)"
   ]
  },
  {
   "cell_type": "markdown",
   "metadata": {},
   "source": [
    "# Hamamatsu"
   ]
  },
  {
   "cell_type": "code",
   "execution_count": null,
   "metadata": {},
   "outputs": [],
   "source": [
    "from HamamatsuH5 import HMROI, set_frame_grabber_region\n",
    "import HamamatsuH5\n",
    "# Set ROI\n",
    "fg = set_frame_grabber_region(h5file)\n",
    "width = fg['right']-fg['left']\n",
    "height = fg['bottom']-fg['top']\n",
    "\n",
    "# For documentation try > help(HMROI)\n",
    "roi = HMROI(width,height,dic = {\n",
    "    \"left\" : 2,\n",
    "    \"right\" : 5,\n",
    "    \"top\" : 4,\n",
    "    \"bottom\" : 7\n",
    "})\n",
    "\n",
    "#Load data into memory\n",
    "shots_per_measurement = int(h5file['/settings/experiment/LabView/camera/shotsPerMeasurement/function'][()])\n",
    "# pixel-by-pixel data indexed : [iteration, measurement, shot, y-pixel, x-pixel]\n",
    "hm_pix = HamamatsuH5.load_data(h5file,roi)\n",
    "\n",
    "#take pixel-by-pixel data and treat it into counter data then mean data\n",
    "# \"count\" data indexed : [iteration, measurement, shot]\n",
    "hm_counts = hm_pix.sum(3).sum(3)\n",
    "# mean count data indexed : [iteration, shot]\n",
    "mus = hm_counts.mean(1)\n",
    "# standard deviation in mean indexed : [iteration, shot]\n",
    "ers = hm_counts.std(1)/sqrt(measurements)"
   ]
  },
  {
   "cell_type": "markdown",
   "metadata": {},
   "source": [
    "## Plot Histograms of count data"
   ]
  },
  {
   "cell_type": "code",
   "execution_count": null,
   "metadata": {},
   "outputs": [],
   "source": [
    "plots = True\n",
    "if plots and len(iterations) > 22:\n",
    "    ans = input(f\"You're about to plot {len(iterations)} histograms. Are you sure you want to do that? (y/N) : \").upper()[0]\n",
    "    plots = ans==\"Y\"\n",
    "if plots:\n",
    "    fig,axarr = plt.subplots(len(iterations),1,figsize=(6,4*len(iterations)))\n",
    "    for iteration, row in iterations.iterrows():\n",
    "        iteration = int(iteration)\n",
    "        for shot in range(shots_per_measurement):\n",
    "            axarr[iteration].hist(hm_counts[iteration,:,shot],histtype='step', label = f\"shot {shot}\",bins=30)\n",
    "        axarr[iteration].legend()\n",
    "        axarr[iteration].set_title(str(row))\n",
    "else:\n",
    "    print(\"You have chosen not to plot the histograms.\")\n",
    "fig.tight_layout()\n",
    "fig.show()"
   ]
  },
  {
   "cell_type": "markdown",
   "metadata": {},
   "source": [
    "## Plot mean count data\n",
    "* If only 1 iteration : Prints out means for each shot and the corresponding standard deviation\n",
    "* If there is 1 independent variable : Plot means for each iteration with error bars\n",
    "* If there are 2 independent variables : show image of means for each iteration."
   ]
  },
  {
   "cell_type": "code",
   "execution_count": null,
   "metadata": {
    "scrolled": false
   },
   "outputs": [],
   "source": [
    "if len(iterations.keys()) == 1:\n",
    "    for shot in range(shots_per_measurement):\n",
    "        print(f\"shot {shot} rate : {mus[0,shot]} +/- {ers[0,shot]}\")\n",
    "elif len(iterations.keys()) == 2:\n",
    "    independent_variable = list(iterations.keys())[0]\n",
    "    xlin = iterations[independent_variable]\n",
    "    fig,ax = plt.subplots(1,1,figsize=(6,5))\n",
    "    for shot in range(shots_per_measurement):\n",
    "        ax.errorbar(xlin, mus[:,shot], yerr=ers[:,shot], label=f\"Shot {shot}\")\n",
    "    ax.legend()\n",
    "    ax.set_ylabel(\"Counts in ROI\")\n",
    "    ax.set_xlabel(independent_variable)\n",
    "    fig.show()\n",
    "elif len(iterations.keys()) == 3:\n",
    "    fig,axarr = plt.subplots(1,2,figsize=(2*5,5))\n",
    "    iVars = [key for key in iterations if key != 'iteration']\n",
    "    pix_size_x = indep_vars[iVars[1]][1] - indep_vars[iVars[1]][0]\n",
    "    pix_size_y = indep_vars[iVars[0]][1] - indep_vars[iVars[0]][0]\n",
    "    for shot in range(shots_per_measurement):\n",
    "        means_nd = fold_to_nd(iterations,mus[:,shot])\n",
    "        im = axarr[shot].imshow(means_nd, interpolation='none',extent=\n",
    "                          [min(iterations[iVars[1]]-pix_size_x/2),\n",
    "                           max(iterations[iVars[1]]+pix_size_x/2),\n",
    "                           max(iterations[iVars[0]]+pix_size_y/2),\n",
    "                           min(iterations[iVars[0]]-pix_size_y/2)\n",
    "                          ])\n",
    "        fig.colorbar(im, ax=axarr[shot], use_gridspec=True, shrink=.7)\n",
    "        axarr[shot].set_xlabel(iVars[1])\n",
    "        axarr[shot].set_ylabel(iVars[0])\n",
    "        axarr[shot].set_title(f\"Shot {shot}\")\n",
    "        axarr[shot].set_xticks(round_(iterations[iVars[1]],2),)\n",
    "        axarr[shot].set_yticks(round_(iterations[iVars[0]],2))\n",
    "    fig.tight_layout()\n",
    "    fig.suptitle(\"Images of mean values\")\n",
    "    fig.show()\n",
    "else:\n",
    "    print(\"many axes, look for purpose made cells\")"
   ]
  },
  {
   "cell_type": "markdown",
   "metadata": {},
   "source": [
    "## Show images taken within ROI"
   ]
  },
  {
   "cell_type": "code",
   "execution_count": null,
   "metadata": {},
   "outputs": [],
   "source": [
    "## show average image for one shot for each iteration\n",
    "im_shot = 0 # shot to image\n",
    "\n",
    "fig,axarr = plt.subplots(len(iterations),1,figsize=(6,4*len(iterations)))\n",
    "for iteration, row in iterations.iterrows():\n",
    "    i = row['iteration']\n",
    "    ivs = {iVar: row[iVar] for iVar in iVars}\n",
    "    axarr[i].imshow(hm_pix[i,:,im_shot,:,:].mean(0))\n",
    "    axarr[i].set_title(str(row))\n",
    "fig.tight_layout()\n",
    "fig.show()\n",
    "    \n",
    "    "
   ]
  },
  {
   "cell_type": "markdown",
   "metadata": {},
   "source": [
    "## Plot Histgram data of each picture for each iteration\n",
    "* Very memory hungry!\n",
    "* Please clear output before saving, copying or pushing if this cell was run"
   ]
  },
  {
   "cell_type": "code",
   "execution_count": null,
   "metadata": {
    "scrolled": true
   },
   "outputs": [],
   "source": [
    "im_width = roi.right-roi.left\n",
    "im_height = roi.bottom-roi.top\n",
    "for iteration, row in iterations.iterrows():\n",
    "    i = row['iteration']\n",
    "    fig,axarr = plt.subplots(im_height,im_width,figsize = (10,10))\n",
    "    for y in range(im_height):\n",
    "        for x in range(im_width):\n",
    "            bns = 20\n",
    "            for shot in range(shots_per_measurement):\n",
    "                axarr[y,x].hist(hm_pix[i,:,shot,y,x],bins=bns,histtype='step',label = f\"Shot {shot}\")\n",
    "            axarr[y,x].set_title(f\"x = {x}, y = {y}\")\n",
    "            axarr[y,x].legend()\n",
    "    fig.suptitle(str(row))\n",
    "    fig.tight_layout()\n",
    "    fig.show()"
   ]
  },
  {
   "cell_type": "markdown",
   "metadata": {},
   "source": [
    "* Ensure once things get better they can get involved in Madison\n",
    "* Not isolated\n",
    "* on slack (check)\n",
    "* check on classes/TAing"
   ]
  },
  {
   "cell_type": "code",
   "execution_count": null,
   "metadata": {},
   "outputs": [],
   "source": []
  }
 ],
 "metadata": {
  "kernelspec": {
   "display_name": "Python 3",
   "language": "python",
   "name": "python3"
  },
  "language_info": {
   "codemirror_mode": {
    "name": "ipython",
    "version": 3
   },
   "file_extension": ".py",
   "mimetype": "text/x-python",
   "name": "python",
   "nbconvert_exporter": "python",
   "pygments_lexer": "ipython3",
   "version": "3.8.2"
  }
 },
 "nbformat": 4,
 "nbformat_minor": 4
}
