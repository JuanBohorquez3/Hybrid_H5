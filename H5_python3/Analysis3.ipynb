{
 "cells": [
  {
   "cell_type": "code",
   "execution_count": null,
   "metadata": {},
   "outputs": [],
   "source": [
    "%matplotlib notebook\n",
    "\n",
    "import h5py\n",
    "import matplotlib.pyplot as plt\n",
    "from numpy import *\n",
    "import pandas as pd\n",
    "import os\n",
    "import sys\n",
    "import scipy.optimize as opt\n",
    "from typing import Dict, Any\n",
    "import recordclass.recordclass as rc\n",
    "from itertools import product\n",
    "\n",
    "if (os.name == 'posix'):\n",
    "    repo_path = r\"/Volumes/C/Public/Users/Hybrid/Repos/Hybrid_H5/H5_python3\"\n",
    "else:\n",
    "    repo_path = r\"C:\\Users\\Hybrid\\Repos\\Hybrid_H5\\H5_python3\"\n",
    "sys.path.append(repo_path)\n",
    "# local imports\n",
    "import HamamatsuH5\n",
    "from Iterations import Iterations,seed_permute"
   ]
  },
  {
   "cell_type": "code",
   "execution_count": null,
   "metadata": {},
   "outputs": [],
   "source": [
    "h5file = h5py.File('results.hdf5',mode='r+')\n",
    "\n",
    "iterations = Iterations(h5file)\n",
    "#Find number of measurements per experiment\n",
    "measurements = h5file['settings/experiment/measurementsPerIteration'][()]\n",
    "num_its = len(h5file['iterations'])\n",
    "\n",
    "iterations\n",
    "#Find independent variable names and values\n",
    "#indep_vars = DataH5.get_indep_vars(h5file)\n",
    "#iVars = list(indep_vars.keys())\n",
    "\n",
    "# map iterations to independent variable values\n",
    "# iterations = DataH5.make_iterations_df(h5file, iVars)"
   ]
  },
  {
   "cell_type": "markdown",
   "metadata": {},
   "source": [
    "## Create n-darray of iteration numbers\n",
    "* useful when there are multiple independent variables\n",
    "* Indexing is [ivar1,ivar2,ivar3,...,ivarn]\n",
    "* ivar ordering is alphabetical\n",
    "* identical to ordering of keys in indep_vars"
   ]
  },
  {
   "cell_type": "markdown",
   "metadata": {},
   "source": [
    "# Hamamatsu"
   ]
  },
  {
   "cell_type": "code",
   "execution_count": null,
   "metadata": {},
   "outputs": [],
   "source": [
    "# Set ROI\n",
    "fg = HamamatsuH5.set_frame_grabber_region(h5file)\n",
    "width = fg['right']-fg['left']\n",
    "height = fg['bottom']-fg['top']\n",
    "\n",
    "# For documentation try > help(HMROI)\n",
    "roi = HamamatsuH5.HMROI(width,height,dic = {\n",
    "    \"left\" : 2,\n",
    "    \"right\" : 5,\n",
    "    \"top\" : 4,\n",
    "    \"bottom\" : 7\n",
    "})\n",
    "\n",
    "#Load data into memory\n",
    "shots_per_measurement = int(h5file['/settings/experiment/LabView/camera/shotsPerMeasurement/function'][()])\n",
    "# pixel-by-pixel data indexed : [iteration, measurement, shot, y-pixel, x-pixel]\n",
    "hm_pix = HamamatsuH5.load_data(h5file,roi)\n",
    "\n",
    "#take pixel-by-pixel data and treat it into counter data then mean data\n",
    "# \"count\" data indexed : [iteration, measurement, shot]\n",
    "hm_counts = hm_pix.sum(3).sum(3)\n",
    "# mean count data indexed : [iteration, shot]\n",
    "mus = hm_counts.mean(1)\n",
    "# standard deviation in mean indexed : [iteration, shot]\n",
    "ers = hm_counts.std(1)/sqrt(measurements)"
   ]
  },
  {
   "cell_type": "markdown",
   "metadata": {},
   "source": [
    "## Plot Histograms of count data"
   ]
  },
  {
   "cell_type": "code",
   "execution_count": null,
   "metadata": {},
   "outputs": [],
   "source": [
    "plots = True\n",
    "if plots and len(iterations) > 22:\n",
    "    ans = input(f\"You're about to plot {len(iterations)} histograms. Are you sure you want to do that? (y/N) : \").upper()[0]\n",
    "    plots = ans==\"Y\"\n",
    "if plots:\n",
    "    fig,axarr = plt.subplots(len(iterations),1,figsize=(6,4*len(iterations)))\n",
    "    for iteration, row in iterations.iterrows():\n",
    "        iteration = int(iteration)\n",
    "        for shot in range(shots_per_measurement):\n",
    "            axarr[iteration].hist(hm_counts[iteration,:,shot],histtype='step', label = f\"shot {shot}\",bins=30)\n",
    "        axarr[iteration].legend()\n",
    "        axarr[iteration].set_title(str(row))\n",
    "        fig.tight_layout()\n",
    "    fig.show()\n",
    "else:\n",
    "    print(\"You have chosen not to plot the histograms.\")"
   ]
  },
  {
   "cell_type": "markdown",
   "metadata": {},
   "source": [
    "## Plot mean count data\n",
    "* If only 1 iteration : Prints out means for each shot and the corresponding standard deviation\n",
    "* If there is 1 independent variable : Plot means for each iteration with error bars\n",
    "* If there are 2 independent variables : show image of means for each iteration."
   ]
  },
  {
   "cell_type": "code",
   "execution_count": null,
   "metadata": {
    "scrolled": false
   },
   "outputs": [],
   "source": [
    "import PlottingH5\n",
    "PlottingH5.default_plotting(iterations,mus,ers,shots_per_measurement,description=\"Mean Counts in ROI\")"
   ]
  },
  {
   "cell_type": "markdown",
   "metadata": {},
   "source": [
    "## Show images taken within ROI"
   ]
  },
  {
   "cell_type": "code",
   "execution_count": null,
   "metadata": {
    "scrolled": false
   },
   "outputs": [],
   "source": [
    "print(list(iterations.keys()))\n",
    "for it, ivar1 in enumerate(mus_nd):\n",
    "    iv_it = list(iterations.keys())[1]\n",
    "    iv_ax = list(iterations.keys())[2]\n",
    "    fig,ax = plt.subplots(1,1)\n",
    "    ax.plot(sorted(list(set(iterations[iv_ax]))),ivar1)\n",
    "    ax.set_xlabel(iv_ax)\n",
    "    ax.set_title(f\"{iv_it} : {sorted(list(set(iterations[iv_it])))[it]}\")\n",
    "    ax.set_ylabel(\"Average camera counts\")\n",
    "    fig.show()"
   ]
  },
  {
   "cell_type": "code",
   "execution_count": null,
   "metadata": {},
   "outputs": [],
   "source": [
    "print(sorted(list(set(iterations[iv_ax]))))\n",
    "print(sorted(list(set(iterations[iv_it]))))"
   ]
  },
  {
   "cell_type": "code",
   "execution_count": null,
   "metadata": {},
   "outputs": [],
   "source": [
    "iterations[iv_ax]"
   ]
  },
  {
   "cell_type": "code",
   "execution_count": null,
   "metadata": {
    "scrolled": false
   },
   "outputs": [],
   "source": [
    "## show average image for one shot for each iteration\n",
    "im_shot = 0 # shot to image\n",
    "\n",
    "fig,axarr = plt.subplots(len(iterations),1,figsize=(6,4*len(iterations)))\n",
    "for iteration, row in iterations.iterrows():\n",
    "    i = row['iteration']\n",
    "    ivs = {iVar: row[iVar] for iVar in iVars}\n",
    "    axarr[i].imshow(hm_pix[i,:,im_shot,:,:].mean(0))\n",
    "    axarr[i].set_title(str(row))\n",
    "fig.tight_layout()\n",
    "fig.show()"
   ]
  },
  {
   "cell_type": "markdown",
   "metadata": {},
   "source": [
    "## Plot Histgram data of each picture for each iteration\n",
    "* Very memory hungry!\n",
    "* Please clear output before saving, copying or pushing if this cell was run"
   ]
  },
  {
   "cell_type": "code",
   "execution_count": null,
   "metadata": {},
   "outputs": [],
   "source": [
    "im_width = roi.right-roi.left\n",
    "im_height = roi.bottom-roi.top\n",
    "for iteration, row in iterations.iterrows():\n",
    "    i = row['iteration']\n",
    "    fig,axarr = plt.subplots(im_height,im_width,figsize = (10,10))\n",
    "    for y in range(im_height):\n",
    "        for x in range(im_width):\n",
    "            bns = 20\n",
    "            for shot in range(shots_per_measurement):\n",
    "                axarr[y,x].hist(hm_pix[i,:,shot,y,x],bins=bns,histtype='step',label = f\"Shot {shot}\")\n",
    "            axarr[y,x].set_title(f\"x = {x}, y = {y}\")\n",
    "            axarr[y,x].legend()\n",
    "    fig.suptitle(str(row))\n",
    "    fig.tight_layout()\n",
    "    fig.show()"
   ]
  }
 ],
 "metadata": {
  "kernelspec": {
   "display_name": "Python 3",
   "language": "python",
   "name": "python3"
  },
  "language_info": {
   "codemirror_mode": {
    "name": "ipython",
    "version": 3
   },
   "file_extension": ".py",
   "mimetype": "text/x-python",
   "name": "python",
   "nbconvert_exporter": "python",
   "pygments_lexer": "ipython3",
   "version": "3.8.2"
  }
 },
 "nbformat": 4,
 "nbformat_minor": 4
}
