{
 "cells": [
  {
   "cell_type": "code",
   "execution_count": 1,
   "metadata": {},
   "outputs": [],
   "source": [
    "%matplotlib notebook\n",
    "\n",
    "import h5py\n",
    "import matplotlib.pyplot as plt\n",
    "from numpy import *\n",
    "import pandas as pd\n",
    "import os\n",
    "import sys\n",
    "import scipy.optimize as opt\n",
    "from typing import Dict, Any\n",
    "import recordclass.recordclass as rc"
   ]
  },
  {
   "cell_type": "code",
   "execution_count": 2,
   "metadata": {},
   "outputs": [],
   "source": [
    "def get_ivars(iteration: h5py._hl.group.Group, *ivar_names: str) -> Dict[str, Any]:\n",
    "    \"\"\"\n",
    "    Gets the values of independent variables for the iteration that was passed in\n",
    "    \n",
    "    Args:\n",
    "        iteration: the data group corresponding to an iteration\n",
    "        *ivar_names: list of names of independent variables\n",
    "    Returns:\n",
    "        ivar_vals : map of ivar_names to their values\n",
    "    \"\"\"\n",
    "    return {name: iteration[f\"variables/{name}\"][()] for name in ivar_names}"
   ]
  },
  {
   "cell_type": "code",
   "execution_count": 3,
   "metadata": {},
   "outputs": [],
   "source": [
    "h5file = h5py.File('results.hdf5',mode='r+')\n",
    "\n",
    "#Find number of measurements per experiment\n",
    "measurements = h5file['settings/experiment/measurementsPerIteration'][()]+1\n",
    "num_its = len(h5file['iterations'])\n",
    "\n",
    "#Find independent variable names and values\n",
    "indep_vars = {}\n",
    "if len(h5file['iterations'])> 1:\n",
    "    for variable in h5file['settings/experiment/independentVariables'].items():\n",
    "        values = eval(variable[1]['function'][()])\n",
    "        #print(f\"{variable[0]}\\n\\t{values}\")\n",
    "        if iterable(values):\n",
    "            indep_vars.update({variable[0]: list(values)})\n",
    "iVars = list(indep_vars.keys())\n",
    "\n",
    "# map iterations to independent variable values\n",
    "iterations = pd.DataFrame(columns=[\"iteration\"]+list(indep_vars.keys()))\n",
    "for iteration in h5file['iterations'].items():\n",
    "    ivar_vals = get_ivars(iteration[1],*list(indep_vars.keys()))\n",
    "    ivar_vals.update({\"iteration\": int(iteration[0])})\n",
    "    iterations = iterations.append(pd.DataFrame(ivar_vals, index = [iteration[0]]))\n",
    "\n",
    "iterations = iterations.sort_values(\"iteration\")"
   ]
  },
  {
   "cell_type": "code",
   "execution_count": 5,
   "metadata": {},
   "outputs": [
    {
     "name": "stdout",
     "output_type": "stream",
     "text": [
      "Help on function iterable in module numpy:\n",
      "\n",
      "iterable(y)\n",
      "    Check whether or not an object can be iterated over.\n",
      "    \n",
      "    Parameters\n",
      "    ----------\n",
      "    y : object\n",
      "      Input object.\n",
      "    \n",
      "    Returns\n",
      "    -------\n",
      "    b : bool\n",
      "      Return ``True`` if the object has an iterator method or is a\n",
      "      sequence and ``False`` otherwise.\n",
      "    \n",
      "    \n",
      "    Examples\n",
      "    --------\n",
      "    >>> np.iterable([1, 2, 3])\n",
      "    True\n",
      "    >>> np.iterable(2)\n",
      "    False\n",
      "\n"
     ]
    }
   ],
   "source": [
    "help(iterable)"
   ]
  },
  {
   "cell_type": "markdown",
   "metadata": {},
   "source": [
    "# Hamamatsu"
   ]
  },
  {
   "cell_type": "code",
   "execution_count": 4,
   "metadata": {},
   "outputs": [],
   "source": [
    "from HamamatsuH5 import HMROI, set_frame_grabber_region\n",
    "import HamamatsuH5\n",
    "# Set ROI\n",
    "fg = set_frame_grabber_region(h5file)\n",
    "width = fg['right']-fg['left']\n",
    "height = fg['bottom']-fg['top']\n",
    "\n",
    "# For documentation try > help(HMROI)\n",
    "roi = HMROI(width,height,dic = {\n",
    "    \"left\" : 2,\n",
    "    \"right\" : 5,\n",
    "    \"top\" : 4,\n",
    "    \"bottom\" : 7\n",
    "})\n",
    "\n",
    "#Load data into memory\n",
    "shots_per_measurement = int(h5file['/settings/experiment/LabView/camera/shotsPerMeasurement/function'][()])\n",
    "# pixel-by-pixel data indexed : [iteration, measurement, shot, y-pixel, x-pixel]\n",
    "hm_pix = HamamatsuH5.load_data(h5file,roi)\n",
    "\n",
    "#take pixel-by-pixel data and treat it into counter data then mean data\n",
    "# \"count\" data indexed : [iteration, measurement, shot]\n",
    "hm_counts = hm_pix.sum(3).sum(3)\n",
    "# mean count data indexed : [iteration, shot]\n",
    "mus = hm_counts.mean(1)\n",
    "# standard deviation in mean indexed : [iteration, shot]\n",
    "ers = hm_counts.std(1)/sqrt(measurements)"
   ]
  },
  {
   "cell_type": "markdown",
   "metadata": {},
   "source": [
    "## Plot Histograms of count data"
   ]
  },
  {
   "cell_type": "code",
   "execution_count": null,
   "metadata": {},
   "outputs": [],
   "source": [
    "fig,axarr = plt.subplots(len(iterations),1,figsize=(6,4*len(iterations)))\n",
    "for iteration, row in iterations.iterrows():\n",
    "    iteration = int(iteration)\n",
    "    for shot in range(shots_per_measurement):\n",
    "        axarr[iteration].hist(hm_counts[iteration,:,shot],histtype='step', label = f\"shot {shot}\",bins=30)\n",
    "    axarr[iteration].legend()\n",
    "    axarr[iteration].set_title(str(row))\n",
    "fig.tight_layout()\n",
    "fig.show()"
   ]
  },
  {
   "cell_type": "markdown",
   "metadata": {},
   "source": [
    "## Plot mean count data with error bars"
   ]
  },
  {
   "cell_type": "code",
   "execution_count": null,
   "metadata": {
    "scrolled": false
   },
   "outputs": [],
   "source": [
    "if len(indep_vars) == 0:\n",
    "    for shot in range(shots_per_measurement):\n",
    "        print(f\"shot {shot} rate : {mus[0,shot]} +/- {ers[0,shot]}\")\n",
    "elif len(indep_vars) == 1:\n",
    "    xlin = iterations[list(indep_vars.keys())[0]]\n",
    "    fig,ax = plt.subplots(1,1,figsize=(6,5))\n",
    "    for shot in range(shots_per_measurement):\n",
    "        ax.errorbar(xlin, mus[:,shot], yerr=ers[:,shot], label=f\"Shot {shot}\")\n",
    "    ax.legend()\n",
    "    ax.set_ylabel(\"Counts in ROI\")\n",
    "    ax.set_xlabel(list(indep_vars.keys())[0])\n",
    "    fig.show()\n",
    "else:\n",
    "    print(\"Many axes, look for purpose made plotting cells\")"
   ]
  },
  {
   "cell_type": "markdown",
   "metadata": {},
   "source": [
    "## Show images taken within ROI"
   ]
  },
  {
   "cell_type": "code",
   "execution_count": null,
   "metadata": {},
   "outputs": [],
   "source": [
    "## show average image for one shot for each iteration\n",
    "im_shot = 0 # shot to image\n",
    "\n",
    "fig,axarr = plt.subplots(len(iterations),1,figsize=(6,4*len(iterations)))\n",
    "for iteration, row in iterations.iterrows():\n",
    "    i = row['iteration']\n",
    "    ivs = {iVar: row[iVar] for iVar in iVars}\n",
    "    axarr[i].imshow(hm_pix[i,:,im_shot,:,:].mean(0))\n",
    "    axarr[i].set_title(str(row))\n",
    "fig.tight_layout()\n",
    "fig.show()\n",
    "    \n",
    "    "
   ]
  },
  {
   "cell_type": "markdown",
   "metadata": {},
   "source": [
    "## Plot Histgram data of each picture for each iteration\n",
    "* Very memory hungry!\n",
    "* Please clear output before saving, copying or pushing if this cell was run"
   ]
  },
  {
   "cell_type": "code",
   "execution_count": null,
   "metadata": {
    "scrolled": true
   },
   "outputs": [],
   "source": [
    "im_width = roi.right-roi.left\n",
    "im_height = roi.bottom-roi.top\n",
    "for iteration, row in iterations.iterrows():\n",
    "    i = row['iteration']\n",
    "    fig,axarr = plt.subplots(im_height,im_width,figsize = (10,10))\n",
    "    for y in range(im_height):\n",
    "        for x in range(im_width):\n",
    "            bns = 20\n",
    "            for shot in range(shots_per_measurement):\n",
    "                axarr[y,x].hist(hm_pix[i,:,shot,y,x],bins=bns,histtype='step',label = f\"Shot {shot}\")\n",
    "            axarr[y,x].set_title(f\"x = {x}, y = {y}\")\n",
    "            axarr[y,x].legend()\n",
    "    fig.suptitle(str(row))\n",
    "    fig.tight_layout()\n",
    "    fig.show()"
   ]
  },
  {
   "cell_type": "markdown",
   "metadata": {},
   "source": [
    "* Ensure once things get better they can get involved in Madison\n",
    "* Not isolated\n",
    "* on slack (check)\n",
    "* check on classes/TAing"
   ]
  },
  {
   "cell_type": "code",
   "execution_count": null,
   "metadata": {},
   "outputs": [],
   "source": []
  }
 ],
 "metadata": {
  "kernelspec": {
   "display_name": "Python 3",
   "language": "python",
   "name": "python3"
  },
  "language_info": {
   "codemirror_mode": {
    "name": "ipython",
    "version": 3
   },
   "file_extension": ".py",
   "mimetype": "text/x-python",
   "name": "python",
   "nbconvert_exporter": "python",
   "pygments_lexer": "ipython3",
   "version": "3.8.2"
  }
 },
 "nbformat": 4,
 "nbformat_minor": 4
}
