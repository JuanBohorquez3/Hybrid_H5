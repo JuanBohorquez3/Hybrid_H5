{
 "cells": [
  {
   "cell_type": "code",
   "execution_count": null,
   "metadata": {},
   "outputs": [],
   "source": [
    "%matplotlib notebook\n",
    "\n",
    "import h5py\n",
    "import matplotlib.pyplot as plt\n",
    "from numpy import *\n",
    "import pandas as pd\n",
    "import os\n",
    "import sys\n",
    "import scipy.optimize as opt\n",
    "from typing import Dict, Any\n",
    "import recordclass.recordclass as rc"
   ]
  },
  {
   "cell_type": "code",
   "execution_count": null,
   "metadata": {},
   "outputs": [],
   "source": [
    "def get_ivars(iteration: h5py._hl.group.Group, *ivar_names: str) -> Dict[str, Any]:\n",
    "    \"\"\"\n",
    "    Gets the values of independent variables for the iteration that was passed in\n",
    "    \n",
    "    Args:\n",
    "        iteration: the data group corresponding to an iteration\n",
    "        *ivar_names: list of names of independent variables\n",
    "    Returns:\n",
    "        ivar_vals : map of ivar_names to their values\n",
    "    \"\"\"\n",
    "    return {name: iteration[f\"variables/{name}\"][()] for name in ivar_names}"
   ]
  },
  {
   "cell_type": "code",
   "execution_count": null,
   "metadata": {},
   "outputs": [],
   "source": [
    "h5file = h5py.File('results.hdf5',mode='r+')\n",
    "\n",
    "#Find number of measurements per experiment\n",
    "measurements = h5file['settings/experiment/measurementsPerIteration'][()]+1\n",
    "num_its = len(h5file['iterations'])\n",
    "\n",
    "#Find independent variable names and values\n",
    "indep_vars = {}\n",
    "if len(h5file['iterations'])> 1:\n",
    "    for variable in h5file['settings/experiment/independentVariables'].items():\n",
    "        values = eval(variable[1]['function'][()])\n",
    "        #print(f\"{variable[0]}\\n\\t{values}\")\n",
    "        if iterable(values):\n",
    "            indep_vars.update({variable[0]: list(values)})\n",
    "iVars = list(indep_vars.keys())\n",
    "\n",
    "# map iterations to independent variable values\n",
    "iterations = pd.DataFrame(columns=[\"iteration\"]+list(indep_vars.keys()))\n",
    "for iteration in h5file['iterations'].items():\n",
    "    ivar_vals = get_ivars(iteration[1],*list(indep_vars.keys()))\n",
    "    ivar_vals.update({\"iteration\": int(iteration[0])})\n",
    "    iterations = iterations.append(pd.DataFrame(ivar_vals, index = [iteration[0]]))\n",
    "\n",
    "iterations = iterations.sort_values(\"iteration\")"
   ]
  },
  {
   "cell_type": "markdown",
   "metadata": {},
   "source": [
    "# Hamamatsu"
   ]
  },
  {
   "cell_type": "code",
   "execution_count": null,
   "metadata": {},
   "outputs": [],
   "source": [
    "from HamamatsuH5 import HMROI, set_frame_grabber_region\n",
    "import HamamatsuH5\n",
    "fg = set_frame_grabber_region(h5file)\n",
    "    \n",
    "width = fg['right']-fg['left']\n",
    "height = fg['bottom']-fg['top']\n",
    "\n",
    "roi = HMROI(width,height,dic = {\n",
    "    \"left\" : 5,\n",
    "    \"right\" : 9,\n",
    "    \"top\" : 3,\n",
    "    \"bottom\" : 6\n",
    "})"
   ]
  },
  {
   "cell_type": "code",
   "execution_count": null,
   "metadata": {
    "scrolled": false
   },
   "outputs": [],
   "source": [
    "shots_per_measurement = int(h5file['/settings/experiment/LabView/camera/shotsPerMeasurement/function'][()])\n",
    "\n",
    "hm_pix = HamamatsuH5.load_data(h5file,roi)\n",
    "   \n",
    "hm_counts = hm_pix.sum(3).sum(3)\n",
    "mus = hm_counts.mean(1)\n",
    "ers = hm_counts.std(1)/sqrt(measurements)"
   ]
  },
  {
   "cell_type": "code",
   "execution_count": null,
   "metadata": {
    "scrolled": false
   },
   "outputs": [],
   "source": [
    "fig,axarr = plt.subplots(len(iterations),1,figsize=(6,4*len(iterations)))\n",
    "for iteration, row in iterations.iterrows():\n",
    "    iteration = int(iteration)\n",
    "    for shot in range(shots_per_measurement):\n",
    "        axarr[iteration].hist(hm_counts[iteration,:,shot],histtype='step', label = f\"shot {shot}\",bins=30)\n",
    "    axarr[iteration].legend()\n",
    "    axarr[iteration].set_title(str(row))\n",
    "fig.tight_layout()\n",
    "fig.show()"
   ]
  },
  {
   "cell_type": "code",
   "execution_count": null,
   "metadata": {
    "scrolled": false
   },
   "outputs": [],
   "source": [
    "if len(indep_vars) == 0:\n",
    "    for shot in range(shots_per_measurement):\n",
    "        print(f\"shot {shot} rate : {mus[0,shot]} +/- {ers[0,shot]}\")\n",
    "elif len(indep_vars) == 1:\n",
    "    xlin = iterations[list(indep_vars.keys())[0]]\n",
    "    fig,ax = plt.subplots(1,1,figsize=(6,5))\n",
    "    for shot in range(shots_per_measurement):\n",
    "        ax.errorbar(xlin, mus[:,shot], yerr=ers[:,shot], label=f\"Shot {shot}\")\n",
    "    ax.legend()\n",
    "    ax.set_ylabel(\"Counts in ROI\")\n",
    "    ax.set_xlabel(list(indep_vars.keys())[0])\n",
    "    fig.show()\n",
    "else:\n",
    "    print(\"Many axes, look for purpose made plotting cells\")"
   ]
  },
  {
   "cell_type": "code",
   "execution_count": null,
   "metadata": {},
   "outputs": [],
   "source": []
  },
  {
   "cell_type": "markdown",
   "metadata": {},
   "source": [
    "* Ensure once things get better they can get involved in Madison\n",
    "* Not isolated\n",
    "* on slack (check)\n",
    "* check on classes/TAing"
   ]
  },
  {
   "cell_type": "code",
   "execution_count": null,
   "metadata": {},
   "outputs": [],
   "source": []
  }
 ],
 "metadata": {
  "kernelspec": {
   "display_name": "Python 3",
   "language": "python",
   "name": "python3"
  },
  "language_info": {
   "codemirror_mode": {
    "name": "ipython",
    "version": 3
   },
   "file_extension": ".py",
   "mimetype": "text/x-python",
   "name": "python",
   "nbconvert_exporter": "python",
   "pygments_lexer": "ipython3",
   "version": "3.8.2"
  }
 },
 "nbformat": 4,
 "nbformat_minor": 4
}
