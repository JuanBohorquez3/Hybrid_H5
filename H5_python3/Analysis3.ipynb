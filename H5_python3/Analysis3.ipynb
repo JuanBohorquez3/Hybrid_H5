{
 "cells": [
  {
   "cell_type": "code",
   "execution_count": 1,
   "metadata": {},
   "outputs": [],
   "source": [
    "import h5py\n",
    "import matplotlib.pyplot as plt\n",
    "from numpy import *\n",
    "import os\n",
    "import sys\n",
    "import scipy.optimize as opt"
   ]
  },
  {
   "cell_type": "code",
   "execution_count": 16,
   "metadata": {},
   "outputs": [
    {
     "ename": "SyntaxError",
     "evalue": "unexpected EOF while parsing (<ipython-input-16-2fa7df858c03>, line 6)",
     "output_type": "error",
     "traceback": [
      "\u001b[1;36m  File \u001b[1;32m\"<ipython-input-16-2fa7df858c03>\"\u001b[1;36m, line \u001b[1;32m6\u001b[0m\n\u001b[1;33m    if iterations > 1:\u001b[0m\n\u001b[1;37m                      ^\u001b[0m\n\u001b[1;31mSyntaxError\u001b[0m\u001b[1;31m:\u001b[0m unexpected EOF while parsing\n"
     ]
    }
   ],
   "source": [
    "h5file = h5py.File('results.hdf5',mode='r+')\n",
    "\n",
    "measurements = h5file['settings/experiment/measurementsPerIteration'][()]\n",
    "iterations = len(h5file['iterations/'].items())\n",
    "\n",
    "if iterations > 1:\n",
    "    for variable in h5file['settings/experiment/independentVariables'].items():\n",
    "        values = eval(variable[1])"
   ]
  },
  {
   "cell_type": "code",
   "execution_count": 3,
   "metadata": {},
   "outputs": [
    {
     "name": "stdout",
     "output_type": "stream",
     "text": [
      "200 21\n"
     ]
    }
   ],
   "source": [
    "print(measurements,iterations)"
   ]
  },
  {
   "cell_type": "code",
   "execution_count": 10,
   "metadata": {},
   "outputs": [
    {
     "name": "stdout",
     "output_type": "stream",
     "text": [
      "0 ('0', <HDF5 group \"/iterations/0\" (5 members)>)\n",
      "1 ('1', <HDF5 group \"/iterations/1\" (5 members)>)\n",
      "10 ('10', <HDF5 group \"/iterations/10\" (5 members)>)\n",
      "11 ('11', <HDF5 group \"/iterations/11\" (5 members)>)\n",
      "12 ('12', <HDF5 group \"/iterations/12\" (5 members)>)\n",
      "13 ('13', <HDF5 group \"/iterations/13\" (5 members)>)\n",
      "14 ('14', <HDF5 group \"/iterations/14\" (5 members)>)\n",
      "15 ('15', <HDF5 group \"/iterations/15\" (5 members)>)\n",
      "16 ('16', <HDF5 group \"/iterations/16\" (5 members)>)\n",
      "17 ('17', <HDF5 group \"/iterations/17\" (5 members)>)\n",
      "18 ('18', <HDF5 group \"/iterations/18\" (5 members)>)\n",
      "19 ('19', <HDF5 group \"/iterations/19\" (5 members)>)\n",
      "2 ('2', <HDF5 group \"/iterations/2\" (5 members)>)\n",
      "20 ('20', <HDF5 group \"/iterations/20\" (5 members)>)\n",
      "3 ('3', <HDF5 group \"/iterations/3\" (5 members)>)\n",
      "4 ('4', <HDF5 group \"/iterations/4\" (5 members)>)\n",
      "5 ('5', <HDF5 group \"/iterations/5\" (5 members)>)\n",
      "6 ('6', <HDF5 group \"/iterations/6\" (5 members)>)\n",
      "7 ('7', <HDF5 group \"/iterations/7\" (5 members)>)\n",
      "8 ('8', <HDF5 group \"/iterations/8\" (5 members)>)\n",
      "9 ('9', <HDF5 group \"/iterations/9\" (5 members)>)\n"
     ]
    }
   ],
   "source": [
    "for it, iteration_item in zip(h5file['iterations'],h5file['iterations'].items()):\n",
    "    print(it,iteration_item)"
   ]
  },
  {
   "cell_type": "code",
   "execution_count": 42,
   "metadata": {},
   "outputs": [
    {
     "name": "stdout",
     "output_type": "stream",
     "text": [
      "AerotechZPos\n",
      "\t4.45\n",
      "AnalogGain\n",
      "\t1\n",
      "AndorExpT\n",
      "\t50\n",
      "BAChop\n",
      "\tFalse\n",
      "BA_Power\n",
      "\t0\n",
      "Blow_Away_time\n",
      "\t2\n",
      "CONEXFocus\n",
      "\t3.35\n",
      "CONEXHoriz\n",
      "\t2.4071\n",
      "DoChop\n",
      "\tFalse\n",
      "DropTime\n",
      "\t0\n",
      "Drop_Time\n",
      "\t1.8\n",
      "GapTime\n",
      "\t25\n",
      "ImageDelay\n",
      "\t0\n",
      "LAC_D2_detuning\n",
      "\t-3.0\n",
      "LAC_D2_power\n",
      "\t0\n",
      "LAC_Time\n",
      "\t0\n",
      "LAC_hyperfine_power\n",
      "\t2.6\n",
      "LAC_shim_X\n",
      "\t0.1\n",
      "LAC_shim_Y\n",
      "\t0.01\n",
      "LAC_shim_Z\n",
      "\t-0.22\n",
      "MOT_Andor_Gain\n",
      "\t200\n",
      "MOT_Background\n",
      "\tTrue\n",
      "MOT_Coil_Current\n",
      "\t15.4972563782\n",
      "MOT_loading_time\n",
      "\t150\n",
      "MOT_shim_X\n",
      "\t-0.562\n",
      "MOT_shim_Y\n",
      "\t0.241\n",
      "MOT_shim_Z\n",
      "\t-0.55\n",
      "MOT_shutter_enable\n",
      "\tTrue\n",
      "MuxJrFocus\n",
      "\t6.18\n",
      "MuxJrHoriz\n",
      "\t7.239\n",
      "MuxJrVert\n",
      "\t5.66\n",
      "OP_HF_amplitude\n",
      "\t2.6\n",
      "OP_Time\n",
      "\t10\n",
      "OP_chop\n",
      "\tFalse\n",
      "OP_depump\n",
      "\tTrue\n",
      "OP_detuning\n",
      "\t30\n",
      "OP_power\n",
      "\t0\n",
      "OP_shelve_time\n",
      "\t0\n",
      "OP_shim_X_offset\n",
      "\t2\n",
      "OP_shim_Y_offset\n",
      "\t0.0\n",
      "OP_shim_Z_offset\n",
      "\t0\n",
      "PGC1_ShimX\n",
      "\t[0.55  0.575 0.6   0.625 0.65  0.675 0.7   0.725 0.75  0.775 0.8   0.825\n",
      " 0.85  0.875 0.9   0.925 0.95  0.975 1.    1.025 1.05 ]\n",
      "PGC1_ShimY\n",
      "\t-0.3\n",
      "PGC1_ShimZ\n",
      "\t0.2\n",
      "PGC2_ShimX\n",
      "\t0.2691\n",
      "PGC2_ShimY\n",
      "\t-0.1\n",
      "PGC2_ShimZ\n",
      "\t0.0484\n",
      "PGC_1_D2_detuning\n",
      "\t-4\n",
      "PGC_1_D2_power\n",
      "\t-3\n",
      "PGC_1_hyperfine_power\n",
      "\t2.6\n",
      "PGC_1_time\n",
      "\t1.5\n",
      "PGC_2_D2_detuning\n",
      "\t-10\n",
      "PGC_2_D2_power\n",
      "\t-3\n",
      "PGC_2_time\n",
      "\t0\n",
      "RO1_D2_Power\n",
      "\t-1.46580286662\n",
      "RO1_D2_detuning\n",
      "\t-3.66061990526\n",
      "RO1_hyperfine_power\n",
      "\t1.5\n",
      "RO1_shim_X\n",
      "\t0.216\n",
      "RO1_shim_Y\n",
      "\t0.086\n",
      "RO1_shim_Z\n",
      "\t0.048\n",
      "ROShimTimeOffset\n",
      "\t0\n",
      "RO_Time\n",
      "\t60\n",
      "RamseyTime\n",
      "\t0\n",
      "Recool_D2_detuning\n",
      "\t-10\n",
      "Recool_D2_power\n",
      "\t-3\n",
      "Recool_hyperfine_power\n",
      "\t2.6\n",
      "Recool_shim_X\n",
      "\t0.1\n",
      "Recool_shim_Y\n",
      "\t0.01\n",
      "Recool_shim_Z\n",
      "\t-0.22\n",
      "Recool_time\n",
      "\t0\n",
      "Ryd_595_frequency\n",
      "\t471\n",
      "SPCM_gates\n",
      "\t54\n",
      "Shots\n",
      "\t2\n",
      "ShuttersOn\n",
      "\tTrue\n",
      "Trap_Hold_time\n",
      "\t4\n",
      "closeXShutter\n",
      "\t1\n",
      "closeXZShutter\n",
      "\t0\n",
      "closeY2Shutter\n",
      "\t0\n",
      "closeYShutter\n",
      "\t1\n",
      "hODT_delay\n",
      "\t1000\n",
      "pre_uW_time\n",
      "\t1\n",
      "shelve_state\n",
      "\t4\n",
      "shelve_time\n",
      "\t10\n",
      "uW_detuning\n",
      "\t0.006\n",
      "uW_time\n",
      "\t0.0\n",
      "uWchop\n",
      "\tFalse\n",
      "vertTrapPower\n",
      "\t0.475\n",
      "whichShutter\n",
      "\t0\n"
     ]
    }
   ],
   "source": [
    "indep_vars = {}\n",
    "if iterations > 1:\n",
    "    for variable in h5file['settings/experiment/independentVariables'].items():\n",
    "        values = eval(variable[1]['function'][()])\n",
    "        print(f\"{variable[0]}\\n\\t{values}\")\n",
    "        if iterable(values):\n",
    "            indep_vars.update({variable[0]: list(values)})"
   ]
  },
  {
   "cell_type": "code",
   "execution_count": 44,
   "metadata": {},
   "outputs": [
    {
     "name": "stdout",
     "output_type": "stream",
     "text": [
      "{'PGC1_ShimX': [0.55, 0.5750000000000001, 0.6000000000000001, 0.625, 0.65, 0.675, 0.7000000000000001, 0.7250000000000001, 0.75, 0.775, 0.8, 0.8250000000000001, 0.8500000000000001, 0.875, 0.9000000000000001, 0.925, 0.9500000000000001, 0.9750000000000001, 1.0, 1.0250000000000001, 1.05]}\n"
     ]
    }
   ],
   "source": [
    "print(indep_vars)"
   ]
  },
  {
   "cell_type": "code",
   "execution_count": 46,
   "metadata": {},
   "outputs": [
    {
     "data": {
      "text/plain": [
       "'C:\\\\Users\\\\Hybrid\\\\Repos\\\\Hybrid_H5\\\\H5_python3\\\\Analysis3.ipynb'"
      ]
     },
     "execution_count": 46,
     "metadata": {},
     "output_type": "execute_result"
    }
   ],
   "source": [
    "import datetime\n",
    "import shutil\n",
    "import re\n",
    "import os\n",
    "import operator\n",
    "from numpy import sort\n",
    "\n",
    "analysis_fname = 'Analysis3.ipynb'\n",
    "repo_path = r\"C:\\Users\\Hybrid\\Repos\\Hybrid_H5\\H5_python3\"\n",
    "\n",
    "shutil.copy(os.path.join(os.getcwd(),analysis_fname),repo_path)"
   ]
  },
  {
   "cell_type": "code",
   "execution_count": null,
   "metadata": {},
   "outputs": [],
   "source": []
  }
 ],
 "metadata": {
  "kernelspec": {
   "display_name": "Python 3",
   "language": "python",
   "name": "python3"
  },
  "language_info": {
   "codemirror_mode": {
    "name": "ipython",
    "version": 3
   },
   "file_extension": ".py",
   "mimetype": "text/x-python",
   "name": "python",
   "nbconvert_exporter": "python",
   "pygments_lexer": "ipython3",
   "version": "3.8.2"
  }
 },
 "nbformat": 4,
 "nbformat_minor": 4
}
